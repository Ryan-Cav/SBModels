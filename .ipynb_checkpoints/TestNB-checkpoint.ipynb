{
 "cells": [
  {
   "cell_type": "code",
   "execution_count": 1,
   "id": "137de587",
   "metadata": {},
   "outputs": [
    {
     "data": {
      "text/plain": [
       "[    Rank          Team   2022  Last 3  Last 1   Home   Away   2021\n",
       " 0      1    Sacramento  119.5   118.7   109.0  123.6  115.2  110.3\n",
       " 1      2  Golden State  118.6   120.7   124.0  120.2  117.0  111.2\n",
       " 2      3     Okla City  117.9   123.7   133.0  120.3  115.4  103.7\n",
       " 3      4        Boston  117.9   123.7   127.0  121.2  114.1  110.3\n",
       " 4      5          Utah  117.6   118.0   111.0  119.2  116.0  112.6\n",
       " 5      6        Denver  117.1   116.3   118.0  121.3  112.4  112.6\n",
       " 6      7     LA Lakers  117.0   114.7   120.0  117.9  116.2  112.1\n",
       " 7      8       Atlanta  116.4   121.3   101.0  115.6  117.1  113.1\n",
       " 8      9       Memphis  116.1   118.0   117.0  118.5  113.6  115.2\n",
       " 9     10     Minnesota  115.7   112.3   106.0  117.2  114.0  115.4\n",
       " 10    11   New Orleans  114.9   104.0   102.0  115.5  114.3  109.3\n",
       " 11    12      Portland  114.9   119.0   101.0  119.5  109.9  106.2\n",
       " 12    13     Milwaukee  114.8   120.7   112.0  118.9  110.8  113.9\n",
       " 13    14      New York  114.6   124.0   122.0  115.5  113.5  106.5\n",
       " 14    15       Indiana  114.5   115.7   117.0  116.7  112.0  111.5\n",
       " 15    16  Philadelphia  114.4   114.0   118.0  115.9  112.5  109.2\n",
       " 16    17      Brooklyn  114.0   106.7   116.0  115.2  112.8  112.7\n",
       " 17    18    Washington  113.6   122.0   114.0  113.2  114.0  108.6\n",
       " 18    19       Toronto  113.3   119.3   123.0  113.6  113.0  109.0\n",
       " 19    20       Chicago  113.1   101.3   100.0  114.3  111.9  110.7\n",
       " 20    21        Dallas  113.0   119.3   109.0  114.0  112.1  107.7\n",
       " 21    22       Phoenix  112.7   114.7   107.0  113.4  111.9  113.8\n",
       " 22    23     Charlotte  112.5   123.0   120.0  111.8  113.1  115.2\n",
       " 23    24   San Antonio  112.4   108.3   110.0  113.7  111.3  113.0\n",
       " 24    25       Detroit  112.3   121.7   109.0  114.5  110.3  104.8\n",
       " 25    26     Cleveland  111.8   108.7   112.0  113.6  109.9  107.7\n",
       " 26    27   LA Clippers  111.4   118.7   116.0  108.3  114.1  108.3\n",
       " 27    28       Orlando  110.9   105.3   113.0  113.5  108.4  104.2\n",
       " 28    29       Houston  109.8    98.3    96.0  109.8  109.8  109.7\n",
       " 29    30         Miami  108.3   106.7   105.0  108.7  108.0  109.0]"
      ]
     },
     "execution_count": 1,
     "metadata": {},
     "output_type": "execute_result"
    }
   ],
   "source": [
    "import pandas as pd\n",
    "\n",
    "pd.read_html('https://www.teamrankings.com/nba/stat/points-per-game')"
   ]
  },
  {
   "cell_type": "code",
   "execution_count": null,
   "id": "3baf4c3c",
   "metadata": {},
   "outputs": [],
   "source": []
  }
 ],
 "metadata": {
  "kernelspec": {
   "display_name": "Python 3 (ipykernel)",
   "language": "python",
   "name": "python3"
  },
  "language_info": {
   "codemirror_mode": {
    "name": "ipython",
    "version": 3
   },
   "file_extension": ".py",
   "mimetype": "text/x-python",
   "name": "python",
   "nbconvert_exporter": "python",
   "pygments_lexer": "ipython3",
   "version": "3.9.7"
  }
 },
 "nbformat": 4,
 "nbformat_minor": 5
}
