{
 "cells": [
  {
   "cell_type": "code",
   "execution_count": 17,
   "metadata": {},
   "outputs": [
    {
     "name": "stdout",
     "output_type": "stream",
     "text": [
      "    Rank          Team   2022  Last 3  Last 1   Home   Away   2021\n",
      "0      1    Sacramento  119.5   118.7   109.0  123.6  115.2  110.3\n",
      "1      2  Golden State  118.6   120.7   124.0  120.2  117.0  111.2\n",
      "2      3     Okla City  117.9   123.7   133.0  120.3  115.4  103.7\n",
      "3      4        Boston  117.9   123.7   127.0  121.2  114.1  110.3\n",
      "4      5          Utah  117.6   118.0   111.0  119.2  116.0  112.6\n",
      "5      6        Denver  117.1   116.3   118.0  121.3  112.4  112.6\n",
      "6      7     LA Lakers  117.0   114.7   120.0  117.9  116.2  112.1\n",
      "7      8       Atlanta  116.4   121.3   101.0  115.6  117.1  113.1\n",
      "8      9       Memphis  116.1   118.0   117.0  118.5  113.6  115.2\n",
      "9     10     Minnesota  115.7   112.3   106.0  117.2  114.0  115.4\n",
      "10    11   New Orleans  114.9   104.0   102.0  115.5  114.3  109.3\n",
      "11    12      Portland  114.9   119.0   101.0  119.5  109.9  106.2\n",
      "12    13     Milwaukee  114.8   120.7   112.0  118.9  110.8  113.9\n",
      "13    14      New York  114.6   124.0   122.0  115.5  113.5  106.5\n",
      "14    15       Indiana  114.5   115.7   117.0  116.7  112.0  111.5\n",
      "15    16  Philadelphia  114.4   114.0   118.0  115.9  112.5  109.2\n",
      "16    17      Brooklyn  114.0   106.7   116.0  115.2  112.8  112.7\n",
      "17    18    Washington  113.6   122.0   114.0  113.2  114.0  108.6\n",
      "18    19       Toronto  113.3   119.3   123.0  113.6  113.0  109.0\n",
      "19    20       Chicago  113.1   101.3   100.0  114.3  111.9  110.7\n",
      "20    21        Dallas  113.0   119.3   109.0  114.0  112.1  107.7\n",
      "21    22       Phoenix  112.7   114.7   107.0  113.4  111.9  113.8\n",
      "22    23     Charlotte  112.5   123.0   120.0  111.8  113.1  115.2\n",
      "23    24   San Antonio  112.4   108.3   110.0  113.7  111.3  113.0\n",
      "24    25       Detroit  112.3   121.7   109.0  114.5  110.3  104.8\n",
      "25    26     Cleveland  111.8   108.7   112.0  113.6  109.9  107.7\n",
      "26    27   LA Clippers  111.4   118.7   116.0  108.3  114.1  108.3\n",
      "27    28       Orlando  110.9   105.3   113.0  113.5  108.4  104.2\n",
      "28    29       Houston  109.8    98.3    96.0  109.8  109.8  109.7\n",
      "29    30         Miami  108.3   106.7   105.0  108.7  108.0  109.0\n",
      "    Rank          Team   2022  Last 3  Last 1   Home   Away   2021\n",
      "0      1     Cleveland  106.1   105.3   118.0  104.8  107.5  105.8\n",
      "1      2         Miami  108.3   110.3   116.0  107.2  109.4  104.6\n",
      "2      3  Philadelphia  110.5   104.7   112.0  109.9  111.2  106.9\n",
      "3      4   LA Clippers  111.1   116.7   107.0  107.0  114.7  108.4\n",
      "4      5       Phoenix  111.3   109.7   116.0  109.3  113.3  107.5\n",
      "5      6     Milwaukee  111.6   110.3   100.0  111.4  111.8  110.7\n",
      "6      7        Boston  111.7   116.3   109.0  111.8  111.6  103.9\n",
      "7      8       Memphis  112.2   112.3   111.0  108.2  116.4  109.9\n",
      "8      9      Brooklyn  112.3   110.0   105.0  110.8  113.8  112.1\n",
      "9     10      New York  112.3   109.0   101.0  112.8  111.9  106.6\n",
      "10    11       Toronto  112.5   117.7   113.0  111.2  113.9  107.4\n",
      "11    12        Dallas  112.5   125.0   118.0  109.6  115.3  104.9\n",
      "12    13        Denver  112.7   107.3   109.0  109.4  116.4  110.9\n",
      "13    14    Washington  113.3   114.0   106.0  113.3  113.3  112.0\n",
      "14    15       Chicago  113.4   109.7   112.0  111.9  114.8  111.9\n",
      "15    16   New Orleans  113.5   112.7   120.0  110.2  116.9  110.2\n",
      "16    17       Orlando  113.7   107.0   123.0  114.3  113.0  112.2\n",
      "17    18      Portland  115.0   126.3   126.0  117.0  112.9  115.1\n",
      "18    19     Minnesota  115.8   121.0   114.0  114.8  116.9  113.3\n",
      "19    20     Okla City  116.2   109.3    96.0  114.6  118.0  111.8\n",
      "20    21       Atlanta  116.7   124.0   122.0  114.4  118.8  112.0\n",
      "21    22       Indiana  117.1   121.0   113.0  115.7  118.8  114.9\n",
      "22    23    Sacramento  117.2   123.3   120.0  118.4  115.9  115.8\n",
      "23    24          Utah  117.2   120.0   117.0  116.0  118.4  107.4\n",
      "24    25       Houston  118.2   117.7   133.0  114.5  121.5  118.2\n",
      "25    26     LA Lakers  118.2   110.7   102.0  115.5  120.6  115.1\n",
      "26    27  Golden State  118.5   123.0   134.0  113.6  123.5  105.8\n",
      "27    28     Charlotte  118.9   122.3   110.0  117.1  120.4  115.1\n",
      "28    29       Detroit  119.9   125.7   127.0  120.1  119.6  112.5\n",
      "29    30   San Antonio  122.6   120.7   120.0  120.7  124.4  113.0\n"
     ]
    }
   ],
   "source": [
    "import pandas as pd\n",
    "\n",
    "ppgData = pd.read_html('https://www.teamrankings.com/nba/stat/points-per-game')\n",
    "opp_ppgData = pd.read_html('https://www.teamrankings.com/nba/stat/opponent-points-per-game')\n",
    "ppgData = ppgData[0]\n",
    "opp_ppgData = opp_ppgData[0]\n",
    "print(ppgData)\n",
    "print(opp_ppgData)"
   ]
  },
  {
   "cell_type": "code",
   "execution_count": 1,
   "metadata": {},
   "outputs": [],
   "source": [
    "# Variables:\n",
    "#   -  PPG TY\n",
    "#   -  PPG Home\n",
    "#   -  PPG Away\n",
    "#   -  PPG L5\n",
    "#   -  OPP PPG TY\n",
    "#   -  OPP PPG Home\n",
    "#   -  OPP PPG Away\n",
    "#   -  OPP PPG L5"
   ]
  },
  {
   "cell_type": "code",
   "execution_count": 19,
   "metadata": {},
   "outputs": [
    {
     "name": "stdout",
     "output_type": "stream",
     "text": [
      "    Rank          Team   2022  Last 3  Last 1   Home   Away   2021\n",
      "15    16  Philadelphia  114.4   114.0   118.0  115.9  112.5  109.2\n",
      "   Rank     Team   2022  Last 3  Last 1   Home   Away   2021\n",
      "8     9  Memphis  116.1   118.0   117.0  118.5  113.6  115.2\n",
      "   Rank          Team   2022  Last 3  Last 1   Home   Away   2021\n",
      "2     3  Philadelphia  110.5   104.7   112.0  109.9  111.2  106.9\n",
      "   Rank     Team   2022  Last 3  Last 1   Home   Away   2021\n",
      "7     8  Memphis  112.2   112.3   111.0  108.2  116.4  109.9\n"
     ]
    }
   ],
   "source": [
    "team1 = 'Philadelphia'\n",
    "team2 = 'Memphis'\n",
    "\n",
    "team1Data = ppgData.loc[ppgData['Team'] == team1]\n",
    "team2Data = ppgData.loc[ppgData['Team'] == team2]\n",
    "\n",
    "team1_opp_Data = opp_ppgData.loc[opp_ppgData['Team'] == team1]\n",
    "team2_opp_Data = opp_ppgData.loc[opp_ppgData['Team'] == team2]\n",
    "\n",
    "print(team1Data)\n",
    "print(team2Data)\n",
    "print(team1_opp_Data)\n",
    "print(team2_opp_Data)"
   ]
  },
  {
   "cell_type": "code",
   "execution_count": 23,
   "metadata": {},
   "outputs": [
    {
     "name": "stdout",
     "output_type": "stream",
     "text": [
      "PPG TY 114.4\n",
      "PPG Home 115.9\n",
      "PPG L5 114.0\n",
      "OPP PPG TY 110.5\n",
      "OPP PPG Away 111.2\n",
      "OPP PPG L5 104.7\n"
     ]
    }
   ],
   "source": [
    "TY_Team1 = team1Data.iloc[0]['2022']\n",
    "Home_Team1 = team1Data.iloc[0]['Home']\n",
    "L3_Team1 = team1Data.iloc[0]['Last 3']\n",
    "opp_TY_Team1 = team1_opp_Data.iloc[0]['2022']\n",
    "opp_Away_Team1 = team1_opp_Data.iloc[0]['Away']\n",
    "opp_L3_Team1 = team1_opp_Data.iloc[0]['Last 3']\n",
    "\n",
    "\n",
    "print(f\"PPG TY {TY_Team1}\")\n",
    "print(f\"PPG Home {Home_Team1}\")\n",
    "print(f\"PPG L5 {L3_Team1}\")\n",
    "print(f\"OPP PPG TY {opp_TY_Team1}\")\n",
    "print(f\"OPP PPG Away {opp_Away_Team1}\")\n",
    "print(f\"OPP PPG L5 {opp_L3_Team1}\")"
   ]
  },
  {
   "cell_type": "code",
   "execution_count": 24,
   "metadata": {},
   "outputs": [
    {
     "name": "stdout",
     "output_type": "stream",
     "text": [
      "PPG TY 116.1\n",
      "PPG Away 113.6\n",
      "PPG L5 118.0\n",
      "OPP PPG TY 112.2\n",
      "OPP PPG Home 108.2\n",
      "OPP PPG L5 112.3\n"
     ]
    }
   ],
   "source": [
    "TY_Team2 = team2Data.iloc[0]['2022']\n",
    "Away_Team2 = team2Data.iloc[0]['Away']\n",
    "L3_Team2 = team2Data.iloc[0]['Last 3']\n",
    "opp_TY_Team2 = team2_opp_Data.iloc[0]['2022']\n",
    "opp_Home_Team2 = team2_opp_Data.iloc[0]['Home']\n",
    "opp_L3_Team2 = team2_opp_Data.iloc[0]['Last 3']\n",
    "\n",
    "\n",
    "print(f\"PPG TY {TY_Team2}\")\n",
    "print(f\"PPG Away {Away_Team2}\")\n",
    "print(f\"PPG L5 {L3_Team2}\")\n",
    "print(f\"OPP PPG TY {opp_TY_Team2}\")\n",
    "print(f\"OPP PPG Home {opp_Home_Team2}\")\n",
    "print(f\"OPP PPG L5 {opp_L3_Team2}\")"
   ]
  },
  {
   "cell_type": "code",
   "execution_count": 28,
   "metadata": {},
   "outputs": [
    {
     "name": "stdout",
     "output_type": "stream",
     "text": [
      "Proj Team1 Score: 112.83333333333333\n",
      "Proj Team2 Score: 112.35000000000001\n",
      "Proj Total: 225.18333333333334\n",
      "Proj Spread: -0.48333333333332007\n"
     ]
    }
   ],
   "source": [
    "team1ProjScore = (TY_Team1+Home_Team1+L3_Team1+opp_TY_Team2+opp_Home_Team2+opp_L3_Team2)/6\n",
    "team2ProjScore = (TY_Team2+Away_Team2+L3_Team2+opp_TY_Team1+opp_Away_Team1+opp_L3_Team1)/6\n",
    "projTotal = team1ProjScore + team2ProjScore\n",
    "projSpread = team2ProjScore - team1ProjScore\n",
    "\n",
    "print(f\"Proj Team1 Score: {team1ProjScore}\")\n",
    "print(f\"Proj Team2 Score: {team2ProjScore}\")\n",
    "print(f\"Proj Total: {projTotal}\")\n",
    "print(f\"Proj Spread: {projSpread}\")"
   ]
  },
  {
   "cell_type": "code",
   "execution_count": 4,
   "metadata": {},
   "outputs": [
    {
     "name": "stdout",
     "output_type": "stream",
     "text": [
      "                Team  AvAge  GP   W   L  OL  PTS   PTS%   GF   GA  ...  PPOA  \\\n",
      "0  Los Angeles Kings   28.7  57  32  18   7   71  0.623  191  192  ...   193   \n",
      "1     League Average   28.3  57  28  22   6   63  0.557  177  177  ...   177   \n",
      "\n",
      "     PK%  SH  SHA     S    S%    SA    SV%   PDO  SO  \n",
      "0  74.61   5    6  1849  10.3  1640  0.883  98.7   2  \n",
      "1  78.41   5    5  1776   9.9  1776  0.901   NaN   2  \n",
      "\n",
      "[2 rows x 28 columns]\n"
     ]
    }
   ],
   "source": [
    "import pandas as pd\n",
    "fullPageData = pd.read_html('https://www.hockey-reference.com/teams/LAK/2023.html?sr&utm_source=direct&utm_medium=Share&utm_campaign=ShareTool#team_stats')\n",
    "ppgDataNHL = ppgDataNHL[1]\n",
    "print(ppgDataNHL[1])"
   ]
  },
  {
   "cell_type": "code",
   "execution_count": null,
   "metadata": {},
   "outputs": [],
   "source": []
  }
 ],
 "metadata": {
  "kernelspec": {
   "display_name": "Python 3",
   "language": "python",
   "name": "python3"
  },
  "language_info": {
   "codemirror_mode": {
    "name": "ipython",
    "version": 3
   },
   "file_extension": ".py",
   "mimetype": "text/x-python",
   "name": "python",
   "nbconvert_exporter": "python",
   "pygments_lexer": "ipython3",
   "version": "3.8.5"
  }
 },
 "nbformat": 4,
 "nbformat_minor": 5
}
